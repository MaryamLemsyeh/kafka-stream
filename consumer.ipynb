{
 "cells": [
  {
   "cell_type": "code",
   "execution_count": 1,
   "metadata": {},
   "outputs": [],
   "source": [
    "from kafka import KafkaAdminClient, KafkaConsumer, KafkaProducer\n",
    "import sys\n",
    "import json\n",
    "from json import loads\n",
    "\n",
    "### Setting up the Python consumer\n",
    "bootstrap_servers = ['localhost:9092']\n",
    "topicName = 'test-topic'\n",
    "consumer = KafkaConsumer (topicName,bootstrap_servers = bootstrap_servers,\n",
    "    auto_offset_reset = 'earliest',value_deserializer=lambda x: loads(x.decode('utf-8')))  ## You can also set it as latest\n",
    "    \n",
    "### Reading the message from consumer\n",
    "try:\n",
    "    for message in consumer:\n",
    "        print (message.value)\n",
    "except KeyboardInterrupt:\n",
    "    sys.exit()\n",
    "    "
   ]
  }
 ],
 "metadata": {
  "kernelspec": {
   "display_name": "Python 3.10.6 64-bit",
   "language": "python",
   "name": "python3"
  },
  "language_info": {
   "codemirror_mode": {
    "name": "ipython",
    "version": 3
   },
   "file_extension": ".py",
   "mimetype": "text/x-python",
   "name": "python",
   "nbconvert_exporter": "python",
   "pygments_lexer": "ipython3",
   "version": "3.10.6"
  },
  "orig_nbformat": 4,
  "vscode": {
   "interpreter": {
    "hash": "373250090b5961025a0369aff119912ebe6ec4b91f104bf9383b783344579584"
   }
  }
 },
 "nbformat": 4,
 "nbformat_minor": 2
}
